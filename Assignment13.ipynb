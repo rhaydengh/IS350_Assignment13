{
 "cells": [
  {
   "cell_type": "markdown",
   "metadata": {},
   "source": [
    "## Week 13 Assignment\n",
    "Analyze an existing recommender system that you find interesting and perform a Scenario Design analysis on the system.  Consider whether it makes sense for your selected recommender system to perform scenario design twice, once for the organization (e.g. Amazon.com) and once for the organization's customers. \n",
    "\n",
    "Attempt to reverse engineer what you can about the site, from the site interface and any available information that you can find on the Internet or elsewhere.\n",
    "\n",
    "Include specific recommendations about how to improve the site's recommendation capabilities going forward. \n"
   ]
  },
  {
   "cell_type": "markdown",
   "metadata": {},
   "source": [
    "## **<font color=blue>Pandora</font>**\n",
    "I find Pandora’s recommender system interesting. They use a multi-tiered approach in evaluating and recommending music (Lawton, 2000-2018). Songs are tagged by genre, rhythm, and progression and this data is transformed into a vector for comparing song similarity (Lawton, 2000-2018). The system also incorporates user feedback based on what they like and dislike within the app. Using this system, Pandora can provide music that the user has listened to in the past, and suggest new songs that are similar to what the user likes."
   ]
  },
  {
   "cell_type": "markdown",
   "metadata": {},
   "source": [
    "## Here, I provide a Scenario Design Analysis using Pandora’s model. Is Pandora meeting its customer’s needs using this system?  \n",
    "### Who are your target users?\n",
    "Pandora’s 2 largest segments of users are in the 18-24 and 35-44 age groups (Smith, 2018). Gender among Pandora customers is split almost equally (Smith, 2018). I would say that these users are also music enthusiasts, as they are seeking a personalize music streaming option and are not satisfied with public radio. \n",
    "### What are their key goals?\n",
    "Pandora customers want to stream music that is aligned with their tastes and interests. \n",
    "### How can you help them accomplish those goals?\n",
    "Pandora can meet its customer’s needs by providing music streaming and allowing customers to customize playlists and stations. A recommender system can be used to evaluate the customer interest and provide suggestions based on what they like.  \n",
    "## Conclusion\n",
    "While Pandora’s recommender system is quite complex and extensive, one thing it is lacking is the customer behavior element. While they may like or dislike certain songs, user’s might like a variety of different genres and different sounding music.  General customer behavior with the app could provide a more insightful data from which to recommendations. So rather than dissecting the music types or the songs themselves, I would recommend using the customer behavior more extensively in finding recommendations. Some examples might be: when a customer searches for music stations or artists, creates a playlist, subscribes to a station, has periodic phases of listening to different music, or how long they spend reading content or listening to certain artists or music. All of these can be used to model user behavior and make better recommendations.\n",
    "\n",
    "Using a Content-Based approach we would create Item and User Profiles. We already know that Pandora has an existing vector for the Item Profiles (songs), using the keyword tags of genre, rhythm, and progression. So, we would initially leverage this vector, describing the items a user can like. Then we would create a vector with the same components to portray the user preferences. Then, rather than using a rating system, the utility matrix would be built using simple 1’s and 0’s. A 1 represents the user has shown an interest in a particular artist or type of music. A 0 represents the user has not shown interest in something. Using these vectors, we can then estimate the degree to which a user would prefer an item by computing the cosine distance between the user’s and item’s vectors (Leskovec, et. al., 2014).\n",
    "\n"
   ]
  },
  {
   "cell_type": "markdown",
   "metadata": {},
   "source": [
    "### References\n",
    "\n",
    "Lawton, G. (2000-2018). How Pandora built a better recommendation engine. Retrieved from https://www.theserverside.com/feature/How-Pandora-built-a-better-recommendation-engine\n",
    "\n",
    "Leskovec, J., Milliway, A. R., Ullman, J. D. (2014). Mining of Massive Data Sets, Chapter 9: “Recommender Systems”. Retrieved from http://infolab.stanford.edu/~ullman/mmds/ch9.pdf\n",
    "\n",
    "Smith, C. (2018). 83 Interesting Pandora Statistics and Facts (March 2018). Retrieved from https://expandedramblings.com/index.php/pandora-statistics/\n",
    "\n",
    "\n",
    "\n"
   ]
  },
  {
   "cell_type": "code",
   "execution_count": null,
   "metadata": {
    "collapsed": true
   },
   "outputs": [],
   "source": []
  }
 ],
 "metadata": {
  "kernelspec": {
   "display_name": "Python 2",
   "language": "python",
   "name": "python2"
  },
  "language_info": {
   "codemirror_mode": {
    "name": "ipython",
    "version": 2
   },
   "file_extension": ".py",
   "mimetype": "text/x-python",
   "name": "python",
   "nbconvert_exporter": "python",
   "pygments_lexer": "ipython2",
   "version": "2.7.13"
  }
 },
 "nbformat": 4,
 "nbformat_minor": 2
}
